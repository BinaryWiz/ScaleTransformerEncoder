{
 "cells": [
  {
   "cell_type": "code",
   "execution_count": 3,
   "metadata": {},
   "outputs": [
    {
     "ename": "ImportError",
     "evalue": "cannot import name 'scaling_layer' from 'src.scaling_layer' (/home/jason/Documents/DownScaleTransformerEncoder/src/scaling_layer.py)",
     "output_type": "error",
     "traceback": [
      "\u001b[0;31m---------------------------------------------------------------------------\u001b[0m",
      "\u001b[0;31mImportError\u001b[0m                               Traceback (most recent call last)",
      "\u001b[0;32m<ipython-input-3-eb00f3e0a5da>\u001b[0m in \u001b[0;36m<module>\u001b[0;34m\u001b[0m\n\u001b[1;32m      5\u001b[0m \u001b[0;32mimport\u001b[0m \u001b[0msys\u001b[0m\u001b[0;34m\u001b[0m\u001b[0;34m\u001b[0m\u001b[0m\n\u001b[1;32m      6\u001b[0m \u001b[0msys\u001b[0m\u001b[0;34m.\u001b[0m\u001b[0mpath\u001b[0m\u001b[0;34m.\u001b[0m\u001b[0mappend\u001b[0m\u001b[0;34m(\u001b[0m\u001b[0mos\u001b[0m\u001b[0;34m.\u001b[0m\u001b[0mgetcwd\u001b[0m\u001b[0;34m(\u001b[0m\u001b[0;34m)\u001b[0m \u001b[0;34m+\u001b[0m \u001b[0;34m'/src/'\u001b[0m\u001b[0;34m)\u001b[0m\u001b[0;34m\u001b[0m\u001b[0;34m\u001b[0m\u001b[0m\n\u001b[0;32m----> 7\u001b[0;31m \u001b[0;32mfrom\u001b[0m \u001b[0msrc\u001b[0m\u001b[0;34m.\u001b[0m\u001b[0mscaling_layer\u001b[0m \u001b[0;32mimport\u001b[0m \u001b[0mscaling_layer\u001b[0m\u001b[0;34m\u001b[0m\u001b[0;34m\u001b[0m\u001b[0m\n\u001b[0m",
      "\u001b[0;31mImportError\u001b[0m: cannot import name 'scaling_layer' from 'src.scaling_layer' (/home/jason/Documents/DownScaleTransformerEncoder/src/scaling_layer.py)"
     ]
    }
   ],
   "source": [
    "import torch\n",
    "import torch.nn as nn\n",
    "import math\n",
    "import os\n",
    "import sys"
   ]
  },
  {
   "cell_type": "code",
   "execution_count": 10,
   "metadata": {},
   "outputs": [],
   "source": [
    "encoder_layer = nn.TransformerEncoderLayer(d_model=512, nhead=8)"
   ]
  },
  {
   "cell_type": "code",
   "execution_count": 11,
   "metadata": {},
   "outputs": [],
   "source": [
    "transformer_encoder = nn.TransformerEncoder(encoder_layer, num_layers=6)"
   ]
  },
  {
   "cell_type": "code",
   "execution_count": 132,
   "metadata": {},
   "outputs": [],
   "source": [
    "src = torch.rand(32, 40, 768)"
   ]
  },
  {
   "cell_type": "code",
   "execution_count": 366,
   "metadata": {},
   "outputs": [],
   "source": [
    "class MultiHeadSelfAttn(nn.Module):\n",
    "    def __init__(self, in_features, out_features, heads=8):\n",
    "        '''\n",
    "        in_features: should be equal to the embedding_dimension\n",
    "        output: what the size of the output embedding should be\n",
    "        '''\n",
    "        \n",
    "        super(MultiHeadSelfAttn, self).__init__()\n",
    "        self.in_features = in_features\n",
    "        self.heads = heads\n",
    "        self.out_features = out_features\n",
    "        \n",
    "        # Make sure that in_features is compatible with the number of heads\n",
    "        assert in_features % heads == 0\n",
    "        \n",
    "        # dk is the size of each of the linear projections of the embedding\n",
    "        self.dk = in_features // 8\n",
    "        \n",
    "        # These are the parameters to project the matrix to the amount of heads\n",
    "        self.key_projections = nn.Linear(self.in_features, self.in_features)\n",
    "        self.value_projections = nn.Linear(self.in_features, self.in_features)\n",
    "        self.query_projections = nn.Linear(self.in_features, self.in_features)\n",
    "        \n",
    "        # The final linear layer\n",
    "        self.end_linear = nn.Linear(self.in_features, self.out_features)\n",
    "        \n",
    "        # Softmax\n",
    "        self.softmax = nn.Softmax(dim=1)\n",
    "        \n",
    "    def scaled_attention(self, head_query, head_keys, head_values):\n",
    "        # Calculate the scaled dot-product\n",
    "        attn = torch.matmul(head_query, head_keys.transpose(-2, -1)) / math.sqrt(self.dk)\n",
    "        \n",
    "        # Get the softmax\n",
    "        attn = self.softmax(attn)\n",
    "        \n",
    "        # Multiply the softmax output by the values\n",
    "        attn = torch.matmul(attn, head_values)\n",
    "        return attn\n",
    "        \n",
    "    def forward(self, embeddings):\n",
    "        '''\n",
    "        Forward propagate through the multi-head attention\n",
    "        embeddings: should be of dimensions (batch, sequence_length, embedding_dimension)\n",
    "        '''\n",
    "        \n",
    "        batches, sequence_length, embeddings_dim = embeddings.size()\n",
    "        \n",
    "        # Get the query projections\n",
    "        query = self.query_projections(embeddings)\n",
    "        query = query.view(batches, self.heads, sequence_length, self.dk)\n",
    "        \n",
    "        # Get the key projections\n",
    "        keys = self.key_projections(embeddings)\n",
    "        keys = keys.view(batches, self.heads, sequence_length, self.dk)\n",
    "        \n",
    "        # Get the value projections\n",
    "        values = self.value_projections(embeddings)\n",
    "        values = values.view(batches, self.heads, sequence_length, self.dk)\n",
    "        \n",
    "        # Calculated the scaled dot-product attention\n",
    "        attn_out = self.scaled_attention(query, keys, values)\n",
    "        \n",
    "        # Put it in dimensions (batches, sequence_length, in_features)\n",
    "        attn_out = attn_out.view(batches, sequence_length, self.in_features)\n",
    "        \n",
    "        # Apply the final linear layer\n",
    "        return self.end_linear(attn_out)\n",
    "        "
   ]
  },
  {
   "cell_type": "code",
   "execution_count": 367,
   "metadata": {},
   "outputs": [
    {
     "data": {
      "text/plain": [
       "torch.Size([32, 40, 768])"
      ]
     },
     "execution_count": 367,
     "metadata": {},
     "output_type": "execute_result"
    }
   ],
   "source": [
    "multi_attn = MultiHeadSelfAttn(768, 768)\n",
    "x = torch.randn(32, 40, 768)\n",
    "multi_attn(x).size()"
   ]
  },
  {
   "cell_type": "code",
   "execution_count": 372,
   "metadata": {},
   "outputs": [],
   "source": [
    "class PositionWiseFeedForward(nn.Module):\n",
    "    def __init__(self, in_features, inner_features, out_features, dropout=0.1):\n",
    "        super(PositionWiseFeedForward, self).__init__()\n",
    "        self.in_features = in_features\n",
    "        self.inner_features = inner_features\n",
    "        self.out_features = out_features\n",
    "        \n",
    "        # First linear layer goes from the in_features to inner_features dimension\n",
    "        self.fc1 = nn.Linear(in_features, inner_features)\n",
    "        \n",
    "        # Second linear layer goes from inner_features to out_features\n",
    "        self.fc2 = nn.Linear(inner_features, out_features)\n",
    "        self.relu = nn.ReLU()\n",
    "        self.dropout = nn.Dropout(dropout)\n",
    "        \n",
    "    def forward(self, embeddings):\n",
    "        '''\n",
    "        Forward propagate through the Feed-Forward network\n",
    "        '''\n",
    "        \n",
    "        embeddings = self.fc1(embeddings)\n",
    "        embeddings = self.dropout(embeddings)\n",
    "        embeddings = self.relu(self.fc2(embeddings))\n",
    "        embeddings = self.dropout(embeddings)\n",
    "        return embeddings"
   ]
  },
  {
   "cell_type": "code",
   "execution_count": 373,
   "metadata": {},
   "outputs": [
    {
     "data": {
      "text/plain": [
       "torch.Size([32, 40, 768])"
      ]
     },
     "execution_count": 373,
     "metadata": {},
     "output_type": "execute_result"
    }
   ],
   "source": [
    "feed_forward = PositionWiseFeedForward(in_features=768, inner_features=2560, out_features=768)\n",
    "x = torch.randn(32, 40, 768)\n",
    "feed_forward(x).size()"
   ]
  },
  {
   "cell_type": "code",
   "execution_count": 374,
   "metadata": {},
   "outputs": [
    {
     "data": {
      "text/plain": [
       "torch.Size([32, 40, 768])"
      ]
     },
     "execution_count": 374,
     "metadata": {},
     "output_type": "execute_result"
    }
   ],
   "source": [
    "ln = nn.LayerNorm(768)\n",
    "ln(feed_forward(x)).size()"
   ]
  },
  {
   "cell_type": "code",
   "execution_count": 383,
   "metadata": {},
   "outputs": [],
   "source": [
    "class ScalingLayer(nn.Module):\n",
    "    def __init__(self, in_features, out_features, pwff_inner_features):\n",
    "        super(ScalingLayer, self).__init__()\n",
    "        self.in_features = in_features\n",
    "        self.out_features = out_features\n",
    "        self.pwff_inner_features = pwff_inner_features\n",
    "        \n",
    "        # Multi-Head Self Attention\n",
    "        self.multihead = MultiHeadSelfAttn(in_features=self.in_features,\n",
    "                                           out_features=self.out_features)\n",
    "        \n",
    "        # Position-Wise Feed Forward\n",
    "        self.pwff = PositionWiseFeedForward(in_features=self.out_features,\n",
    "                                            inner_features=self.pwff_inner_features,\n",
    "                                            out_features=self.out_features)\n",
    "        \n",
    "        # This is used to scale the original embedding to make a residual connection if in_features != out_features\n",
    "        self.residual_scale = nn.Linear(in_features=self.in_features,\n",
    "                                        out_features=self.out_features)\n",
    "        \n",
    "        # The Layer Normalization layers\n",
    "        self.multihead_ln = nn.LayerNorm(out_features)\n",
    "        self.pwff_ln = nn.LayerNorm(out_features)\n",
    "    \n",
    "    def forward(self, embeddings):\n",
    "        # This will be for adding later\n",
    "        residual = embeddings.clone()\n",
    "        \n",
    "        # Forward propagate through the multihead attention layer\n",
    "        out = self.multihead(embeddings)\n",
    "        \n",
    "        # Scale the original embeddings down to add element-wise\n",
    "        residual = self.residual_scale(residual)\n",
    "        out = self.multihead_ln(out + residual)\n",
    "        \n",
    "        # Keep a copy of out now to add after the Position-Wise Feed Forward\n",
    "        residual = out.clone()\n",
    "        \n",
    "        # Forward propagate through the Position-Wise Feed Forward\n",
    "        out = self.pwff_ln(out)\n",
    "        \n",
    "        # Complete the residual connection and apply Layer Normalization\n",
    "        out = self.pwff_ln(out + residual)\n",
    "        return out"
   ]
  },
  {
   "cell_type": "code",
   "execution_count": 387,
   "metadata": {},
   "outputs": [],
   "source": [
    "x = torch.randn(32, 40, 768)\n",
    "scale = ScalingLayer(768, 512, 2048)\n",
    "scale2 = ScalingLayer(512, 256, 1024)"
   ]
  },
  {
   "cell_type": "code",
   "execution_count": 388,
   "metadata": {},
   "outputs": [
    {
     "data": {
      "text/plain": [
       "torch.Size([32, 40, 256])"
      ]
     },
     "execution_count": 388,
     "metadata": {},
     "output_type": "execute_result"
    }
   ],
   "source": [
    "scale2(scale(x)).size()"
   ]
  }
 ],
 "metadata": {
  "kernelspec": {
   "display_name": "Python 3",
   "language": "python",
   "name": "python3"
  },
  "language_info": {
   "codemirror_mode": {
    "name": "ipython",
    "version": 3
   },
   "file_extension": ".py",
   "mimetype": "text/x-python",
   "name": "python",
   "nbconvert_exporter": "python",
   "pygments_lexer": "ipython3",
   "version": "3.8.5"
  }
 },
 "nbformat": 4,
 "nbformat_minor": 4
}